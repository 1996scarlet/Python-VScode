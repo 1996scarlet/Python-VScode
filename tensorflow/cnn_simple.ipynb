{
  "nbformat": 4,
  "nbformat_minor": 0,
  "metadata": {
    "colab": {
      "name": "cnn_simple.ipynb",
      "version": "0.3.2",
      "provenance": [],
      "collapsed_sections": [],
      "include_colab_link": true
    },
    "kernelspec": {
      "name": "python3",
      "display_name": "Python 3"
    }
  },
  "cells": [
    {
      "cell_type": "markdown",
      "metadata": {
        "id": "view-in-github",
        "colab_type": "text"
      },
      "source": [
        "[View in Colaboratory](https://colab.research.google.com/github/1996scarlet/Python-VScode/blob/master/tensorflow/cnn_simple.ipynb)"
      ]
    },
    {
      "metadata": {
        "id": "f9hv6KfAYeCM",
        "colab_type": "code",
        "colab": {}
      },
      "cell_type": "code",
      "source": [
        "import input_data\n",
        "mnist = input_data.read_data_sets('MNIST_data', one_hot=True)\n",
        "\n",
        "import tensorflow as tf\n",
        "sess = tf.InteractiveSession()\n",
        "\n",
        "x = tf.placeholder(\"float\", shape=[None, 784])\n",
        "y_ = tf.placeholder(\"float\", shape=[None, 10])\n",
        "\n",
        "\n",
        "def weight_variable(shape):\n",
        "    initial = tf.truncated_normal(shape, stddev=0.1)\n",
        "    return tf.Variable(initial)\n",
        "\n",
        "\n",
        "def bias_variable(shape):\n",
        "    initial = tf.constant(0.1, shape=shape)\n",
        "    return tf.Variable(initial)\n",
        "\n"
      ],
      "execution_count": 0,
      "outputs": []
    },
    {
      "metadata": {
        "id": "c4VvNXQOYm6E",
        "colab_type": "text"
      },
      "cell_type": "markdown",
      "source": [
        "strides在官方定义中是一个一维具有四个元素的张量，其规定前后必须为1\n",
        "所以我们可以改的是中间两个数，中间两个数分别代表了水平滑动和垂直滑动步长值。\n",
        "\n",
        "在卷积核移动逐渐扫描整体图时候，因为步长的设置问题\n",
        "可能导致剩下未扫描的空间不足以提供给卷积核计算\n",
        "\n",
        "SAME -> 补零\n",
        "VALID -> 抛弃"
      ]
    },
    {
      "metadata": {
        "id": "fMfnjRoQYv_s",
        "colab_type": "code",
        "colab": {}
      },
      "cell_type": "code",
      "source": [
        "def conv2d(x, W):\n",
        "    return tf.nn.conv2d(x, W, strides=[1, 1, 1, 1], padding='SAME')\n",
        "\n",
        "\n",
        "def max_pool_2x2(x):\n",
        "    return tf.nn.max_pool(x, ksize=[1, 2, 2, 1],\n",
        "                          strides=[1, 2, 2, 1], padding='SAME')"
      ],
      "execution_count": 0,
      "outputs": []
    },
    {
      "metadata": {
        "id": "XSwo638fY1yb",
        "colab_type": "text"
      },
      "cell_type": "markdown",
      "source": [
        "现在我们可以开始实现第一层了。它由一个卷积接一个max pooling完成。\n",
        "卷积在每个5x5的patch中算出32个特征。\n",
        "卷积的权重张量形状是[5, 5, 1, 32]，前两个维度是patch的大小\n",
        "接着是输入的通道数目, 最后是输出的通道数目。 \n",
        "而对于每一个输出通道都有一个对应的偏置量。"
      ]
    },
    {
      "metadata": {
        "id": "v6XOMnaoY98k",
        "colab_type": "code",
        "colab": {}
      },
      "cell_type": "code",
      "source": [
        "W_conv1 = weight_variable([5, 5, 1, 32])\n",
        "b_conv1 = bias_variable([32])\n",
        "\n",
        "x_image = tf.reshape(x, [-1, 28, 28, 1])\n",
        "\n",
        "h_conv1 = tf.nn.relu(conv2d(x_image, W_conv1)+b_conv1)\n",
        "h_pool1 = max_pool_2x2(h_conv1)\n",
        "\n",
        "# ===================FIRST LAYER===============\n",
        "\n",
        "W_conv2 = weight_variable([5, 5, 32, 64])\n",
        "b_conv2 = bias_variable([64])\n",
        "\n",
        "h_conv2 = tf.nn.relu(conv2d(h_pool1, W_conv2)+b_conv2)\n",
        "h_pool2 = max_pool_2x2(h_conv2)\n",
        "\n",
        "# ===================SECOND LAYER================\n",
        "\n",
        "W_fc1 = weight_variable([7*7*64, 1024])\n",
        "b_fc1 = bias_variable([1024])\n",
        "\n",
        "h_pool2_flat = tf.reshape(h_pool2, [-1, 7*7*64])\n",
        "h_fc1 = tf.nn.relu(tf.matmul(h_pool2_flat, W_fc1)+b_fc1)"
      ],
      "execution_count": 0,
      "outputs": []
    },
    {
      "metadata": {
        "id": "pGG2Ma-sZAsD",
        "colab_type": "text"
      },
      "cell_type": "markdown",
      "source": [
        "keep_prob 代表运算过程中每个神经元计算后的结果被保留的概率\n",
        "在train过程中 keep_prob 应小于1\n",
        "在test过程中 keep_prob 应等于1 "
      ]
    },
    {
      "metadata": {
        "id": "afWstgoAZEn7",
        "colab_type": "code",
        "colab": {}
      },
      "cell_type": "code",
      "source": [
        "keep_prob = tf.placeholder(\"float\")\n",
        "h_fc1_drop = tf.nn.dropout(h_fc1, keep_prob)\n",
        "\n",
        "# =====================SOFTMAX LAYER==============\n",
        "\n",
        "W_fc2 = weight_variable([1024, 10])\n",
        "b_fc2 = bias_variable([10])\n",
        "\n",
        "y_conv = tf.nn.softmax(tf.matmul(h_fc1_drop, W_fc2) + b_fc2)\n",
        "\n",
        "cross_entropy = -tf.reduce_sum(y_*tf.log(y_conv))\n",
        "train_step = tf.train.AdamOptimizer(1e-4).minimize(cross_entropy)\n",
        "correct_prediction = tf.equal(tf.argmax(y_conv, 1), tf.argmax(y_, 1))\n",
        "accuracy = tf.reduce_mean(tf.cast(correct_prediction, \"float\"))\n",
        "\n",
        "sess.run(tf.global_variables_initializer())\n",
        "\n",
        "for i in range(20000):\n",
        "    batch = mnist.train.next_batch(50)\n",
        "    if i % 100 == 0:\n",
        "        train_accuracy = accuracy.eval(feed_dict={\n",
        "            x: batch[0], y_: batch[1], keep_prob: 1.0})\n",
        "        print (\"step %d, training accuracy %g\" % (i, train_accuracy))\n",
        "    train_step.run(feed_dict={x: batch[0], y_: batch[1], keep_prob: 0.5})\n",
        "\n",
        "print (\"test accuracy %g\" % accuracy.eval(feed_dict={\n",
        "    x: mnist.test.images, y_: mnist.test.labels, keep_prob: 1.0}))"
      ],
      "execution_count": 0,
      "outputs": []
    }
  ]
}